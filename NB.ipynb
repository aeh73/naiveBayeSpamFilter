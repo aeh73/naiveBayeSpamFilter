{
 "cells": [
  {
   "cell_type": "code",
   "execution_count": 175,
   "metadata": {},
   "outputs": [],
   "source": [
    "#Naive Bayes Algo Spam Filter\n",
    "#Importing packages\n",
    "import numpy as np \n",
    "import pandas as pd \n",
    "import seaborn as sns\n",
    "%matplotlib inline\n",
    "from matplotlib import pyplot as plt\n",
    "from matplotlib import style\n",
    "from sklearn.metrics import confusion_matrix, classification_report\n",
    "from sklearn.naive_bayes import GaussianNB,MultinomialNB,BernoulliNB\n",
    "from sklearn.svm import SVC\n",
    "from sklearn.neighbors import KNeighborsClassifier\n",
    "from sklearn.metrics import accuracy_score\n",
    "from sklearn.model_selection import train_test_split\n",
    "from sklearn.feature_extraction.text import CountVectorizer\n",
    "from sklearn.pipeline import Pipeline"
   ]
  },
  {
   "cell_type": "code",
   "execution_count": 176,
   "metadata": {},
   "outputs": [
    {
     "name": "stdout",
     "output_type": "stream",
     "text": [
      "            Category                                            Message\n",
      "0                ham  Go until jurong point, crazy.. Available only ...\n",
      "1                ham                      Ok lar... Joking wif u oni...\n",
      "2               spam  Free entry in 2 a wkly comp to win FA Cup fina...\n",
      "3                ham  U dun say so early hor... U c already then say...\n",
      "4                ham  Nah I don't think he goes to usf, he lives aro...\n",
      "...              ...                                                ...\n",
      "5568             ham               Will ü b going to esplanade fr home?\n",
      "5569             ham  Pity, * was in mood for that. So...any other s...\n",
      "5570             ham  The guy did some bitching but I acted like i'd...\n",
      "5571             ham                         Rofl. Its true to its name\n",
      "5572  {\"mode\":\"full\"                                    isActive:false}\n",
      "\n",
      "[5573 rows x 2 columns]\n"
     ]
    }
   ],
   "source": [
    "#Importing data, testing and cleaning up columns\n",
    "spam_data = pd.read_csv(r'C:\\Users\\Ahmed\\Desktop\\Intelligent Systems\\PROJECT\\email.csv')\n",
    "print(spam_data)              #Prints the dataset"
   ]
  },
  {
   "cell_type": "code",
   "execution_count": 177,
   "metadata": {},
   "outputs": [
    {
     "data": {
      "text/html": [
       "<div>\n",
       "<style scoped>\n",
       "    .dataframe tbody tr th:only-of-type {\n",
       "        vertical-align: middle;\n",
       "    }\n",
       "\n",
       "    .dataframe tbody tr th {\n",
       "        vertical-align: top;\n",
       "    }\n",
       "\n",
       "    .dataframe thead th {\n",
       "        text-align: right;\n",
       "    }\n",
       "</style>\n",
       "<table border=\"1\" class=\"dataframe\">\n",
       "  <thead>\n",
       "    <tr style=\"text-align: right;\">\n",
       "      <th></th>\n",
       "      <th>Category</th>\n",
       "      <th>Message</th>\n",
       "    </tr>\n",
       "  </thead>\n",
       "  <tbody>\n",
       "    <tr>\n",
       "      <th>count</th>\n",
       "      <td>5573</td>\n",
       "      <td>5573</td>\n",
       "    </tr>\n",
       "    <tr>\n",
       "      <th>unique</th>\n",
       "      <td>3</td>\n",
       "      <td>5158</td>\n",
       "    </tr>\n",
       "    <tr>\n",
       "      <th>top</th>\n",
       "      <td>ham</td>\n",
       "      <td>Sorry, I'll call later</td>\n",
       "    </tr>\n",
       "    <tr>\n",
       "      <th>freq</th>\n",
       "      <td>4825</td>\n",
       "      <td>30</td>\n",
       "    </tr>\n",
       "  </tbody>\n",
       "</table>\n",
       "</div>"
      ],
      "text/plain": [
       "       Category                 Message\n",
       "count      5573                    5573\n",
       "unique        3                    5158\n",
       "top         ham  Sorry, I'll call later\n",
       "freq       4825                      30"
      ]
     },
     "execution_count": 177,
     "metadata": {},
     "output_type": "execute_result"
    }
   ],
   "source": [
    "#getting information on the spam_data\n",
    "spam_data.describe()"
   ]
  },
  {
   "cell_type": "code",
   "execution_count": 178,
   "metadata": {},
   "outputs": [
    {
     "name": "stdout",
     "output_type": "stream",
     "text": [
      "            Category                                            Message  spam\n",
      "0                ham  Go until jurong point, crazy.. Available only ...     0\n",
      "1                ham                      Ok lar... Joking wif u oni...     0\n",
      "2               spam  Free entry in 2 a wkly comp to win FA Cup fina...     1\n",
      "3                ham  U dun say so early hor... U c already then say...     0\n",
      "4                ham  Nah I don't think he goes to usf, he lives aro...     0\n",
      "...              ...                                                ...   ...\n",
      "5568             ham               Will ü b going to esplanade fr home?     0\n",
      "5569             ham  Pity, * was in mood for that. So...any other s...     0\n",
      "5570             ham  The guy did some bitching but I acted like i'd...     0\n",
      "5571             ham                         Rofl. Its true to its name     0\n",
      "5572  {\"mode\":\"full\"                                    isActive:false}     0\n",
      "\n",
      "[5573 rows x 3 columns]\n"
     ]
    }
   ],
   "source": [
    "#Categorising the data in 1's and 0's\n",
    "#Applies 1 if the category is spam and 0 is it is ham\n",
    "spam_data['spam']=spam_data['Category'].apply(lambda x: 1 if x=='spam' else 0)\n",
    "\n",
    "print(spam_data)"
   ]
  },
  {
   "cell_type": "code",
   "execution_count": 179,
   "metadata": {},
   "outputs": [
    {
     "data": {
      "text/html": [
       "<div>\n",
       "<style scoped>\n",
       "    .dataframe tbody tr th:only-of-type {\n",
       "        vertical-align: middle;\n",
       "    }\n",
       "\n",
       "    .dataframe tbody tr th {\n",
       "        vertical-align: top;\n",
       "    }\n",
       "\n",
       "    .dataframe thead tr th {\n",
       "        text-align: left;\n",
       "    }\n",
       "\n",
       "    .dataframe thead tr:last-of-type th {\n",
       "        text-align: right;\n",
       "    }\n",
       "</style>\n",
       "<table border=\"1\" class=\"dataframe\">\n",
       "  <thead>\n",
       "    <tr>\n",
       "      <th></th>\n",
       "      <th colspan=\"4\" halign=\"left\">Category</th>\n",
       "      <th colspan=\"4\" halign=\"left\">Message</th>\n",
       "    </tr>\n",
       "    <tr>\n",
       "      <th></th>\n",
       "      <th>count</th>\n",
       "      <th>unique</th>\n",
       "      <th>top</th>\n",
       "      <th>freq</th>\n",
       "      <th>count</th>\n",
       "      <th>unique</th>\n",
       "      <th>top</th>\n",
       "      <th>freq</th>\n",
       "    </tr>\n",
       "    <tr>\n",
       "      <th>spam</th>\n",
       "      <th></th>\n",
       "      <th></th>\n",
       "      <th></th>\n",
       "      <th></th>\n",
       "      <th></th>\n",
       "      <th></th>\n",
       "      <th></th>\n",
       "      <th></th>\n",
       "    </tr>\n",
       "  </thead>\n",
       "  <tbody>\n",
       "    <tr>\n",
       "      <th>0</th>\n",
       "      <td>4826</td>\n",
       "      <td>2</td>\n",
       "      <td>ham</td>\n",
       "      <td>4825</td>\n",
       "      <td>4826</td>\n",
       "      <td>4517</td>\n",
       "      <td>Sorry, I'll call later</td>\n",
       "      <td>30</td>\n",
       "    </tr>\n",
       "    <tr>\n",
       "      <th>1</th>\n",
       "      <td>747</td>\n",
       "      <td>1</td>\n",
       "      <td>spam</td>\n",
       "      <td>747</td>\n",
       "      <td>747</td>\n",
       "      <td>641</td>\n",
       "      <td>Please call our customer service representativ...</td>\n",
       "      <td>4</td>\n",
       "    </tr>\n",
       "  </tbody>\n",
       "</table>\n",
       "</div>"
      ],
      "text/plain": [
       "     Category                    Message         \\\n",
       "        count unique   top  freq   count unique   \n",
       "spam                                              \n",
       "0        4826      2   ham  4825    4826   4517   \n",
       "1         747      1  spam   747     747    641   \n",
       "\n",
       "                                                              \n",
       "                                                    top freq  \n",
       "spam                                                          \n",
       "0                                Sorry, I'll call later   30  \n",
       "1     Please call our customer service representativ...    4  "
      ]
     },
     "execution_count": 179,
     "metadata": {},
     "output_type": "execute_result"
    }
   ],
   "source": [
    "#Viewing and grouping the data - grouped by spam category(0 or 1)\n",
    "spam_data.groupby('spam').describe()\n",
    "\n"
   ]
  },
  {
   "cell_type": "code",
   "execution_count": 180,
   "metadata": {},
   "outputs": [
    {
     "name": "stdout",
     "output_type": "stream",
     "text": [
      "empty values:  Category    0\n",
      "Message     0\n",
      "spam        0\n",
      "dtype: int64\n"
     ]
    },
    {
     "data": {
      "text/html": [
       "<div>\n",
       "<style scoped>\n",
       "    .dataframe tbody tr th:only-of-type {\n",
       "        vertical-align: middle;\n",
       "    }\n",
       "\n",
       "    .dataframe tbody tr th {\n",
       "        vertical-align: top;\n",
       "    }\n",
       "\n",
       "    .dataframe thead tr th {\n",
       "        text-align: left;\n",
       "    }\n",
       "\n",
       "    .dataframe thead tr:last-of-type th {\n",
       "        text-align: right;\n",
       "    }\n",
       "</style>\n",
       "<table border=\"1\" class=\"dataframe\">\n",
       "  <thead>\n",
       "    <tr>\n",
       "      <th></th>\n",
       "      <th colspan=\"4\" halign=\"left\">Category</th>\n",
       "      <th colspan=\"4\" halign=\"left\">Message</th>\n",
       "    </tr>\n",
       "    <tr>\n",
       "      <th></th>\n",
       "      <th>count</th>\n",
       "      <th>unique</th>\n",
       "      <th>top</th>\n",
       "      <th>freq</th>\n",
       "      <th>count</th>\n",
       "      <th>unique</th>\n",
       "      <th>top</th>\n",
       "      <th>freq</th>\n",
       "    </tr>\n",
       "    <tr>\n",
       "      <th>spam</th>\n",
       "      <th></th>\n",
       "      <th></th>\n",
       "      <th></th>\n",
       "      <th></th>\n",
       "      <th></th>\n",
       "      <th></th>\n",
       "      <th></th>\n",
       "      <th></th>\n",
       "    </tr>\n",
       "  </thead>\n",
       "  <tbody>\n",
       "    <tr>\n",
       "      <th>0</th>\n",
       "      <td>4517</td>\n",
       "      <td>2</td>\n",
       "      <td>ham</td>\n",
       "      <td>4516</td>\n",
       "      <td>4517</td>\n",
       "      <td>4517</td>\n",
       "      <td>Go until jurong point, crazy.. Available only ...</td>\n",
       "      <td>1</td>\n",
       "    </tr>\n",
       "    <tr>\n",
       "      <th>1</th>\n",
       "      <td>641</td>\n",
       "      <td>1</td>\n",
       "      <td>spam</td>\n",
       "      <td>641</td>\n",
       "      <td>641</td>\n",
       "      <td>641</td>\n",
       "      <td>Free entry in 2 a wkly comp to win FA Cup fina...</td>\n",
       "      <td>1</td>\n",
       "    </tr>\n",
       "  </tbody>\n",
       "</table>\n",
       "</div>"
      ],
      "text/plain": [
       "     Category                    Message         \\\n",
       "        count unique   top  freq   count unique   \n",
       "spam                                              \n",
       "0        4517      2   ham  4516    4517   4517   \n",
       "1         641      1  spam   641     641    641   \n",
       "\n",
       "                                                              \n",
       "                                                    top freq  \n",
       "spam                                                          \n",
       "0     Go until jurong point, crazy.. Available only ...    1  \n",
       "1     Free entry in 2 a wkly comp to win FA Cup fina...    1  "
      ]
     },
     "execution_count": 180,
     "metadata": {},
     "output_type": "execute_result"
    }
   ],
   "source": [
    "#check for empty values in the csv file\n",
    "print(\"empty values: \", spam_data.isnull().sum())\n",
    "#remove duplicates - subset=none means every column is  \n",
    "# checked and inplace=true re-arranges the data structure \n",
    "# removing duplicate rows\n",
    "spam_data.drop_duplicates(subset=None, inplace=True)\n",
    "spam_data.groupby('spam').describe()"
   ]
  },
  {
   "cell_type": "code",
   "execution_count": 181,
   "metadata": {},
   "outputs": [
    {
     "name": "stderr",
     "output_type": "stream",
     "text": [
      "c:\\Users\\Ahmed\\anaconda3\\lib\\site-packages\\seaborn\\_decorators.py:36: FutureWarning: Pass the following variables as keyword args: x, y. From version 0.12, the only valid positional argument will be `data`, and passing other arguments without an explicit keyword will result in an error or misinterpretation.\n",
      "  warnings.warn(\n"
     ]
    },
    {
     "data": {
      "image/png": "[encoded data removed]",
      "text/plain": [
       "<Figure size 1000x400 with 1 Axes>"
      ]
     },
     "metadata": {},
     "output_type": "display_data"
    }
   ],
   "source": [
    "#Plotting a graph for emails of spam and ham\n",
    "#with customization of the graph\n",
    "label_counts = spam_data.spam.value_counts()\n",
    "plt.figure(figsize = (10,4))\n",
    "sns.barplot(label_counts.index, label_counts.values, palette = 'hls', alpha = 0.8)\n",
    "plt.xticks(rotation = 'horizontal')\n",
    "plt.xlabel('Non-Spam and Spam', fontsize =15)\n",
    "plt.ylabel('Email Count', fontsize = 15)\n",
    "plt.show()"
   ]
  },
  {
   "cell_type": "code",
   "execution_count": 182,
   "metadata": {},
   "outputs": [],
   "source": [
    "#Categorising the X and Y\n",
    "X=spam_data['Message']\n",
    "Y=spam_data['spam']"
   ]
  },
  {
   "cell_type": "code",
   "execution_count": 183,
   "metadata": {},
   "outputs": [],
   "source": [
    "#creating test and training\n",
    "#by default it is split into 75% test and 25% train\n",
    "#or you can set your own parameters\n",
    "x_train, x_test, y_train, y_test = train_test_split(X,Y)"
   ]
  },
  {
   "cell_type": "code",
   "execution_count": 184,
   "metadata": {},
   "outputs": [],
   "source": [
    "#create classifier Using pipeline we can automate multiple methods on the \n",
    "# data before being analysed\n",
    "nbClassifier=Pipeline([\n",
    "    ('cv', CountVectorizer()),\n",
    "    ('nb', MultinomialNB())\n",
    "])"
   ]
  },
  {
   "cell_type": "code",
   "execution_count": 185,
   "metadata": {},
   "outputs": [
    {
     "data": {
      "text/plain": [
       "Pipeline(steps=[('cv', CountVectorizer()), ('nb', MultinomialNB())])"
      ]
     },
     "execution_count": 185,
     "metadata": {},
     "output_type": "execute_result"
    }
   ],
   "source": [
    "#Fitting or transforming the data into the NB classifier\n",
    "nbClassifier.fit(x_train,y_train)\n"
   ]
  },
  {
   "cell_type": "code",
   "execution_count": 186,
   "metadata": {},
   "outputs": [],
   "source": [
    "#Make prediction on X_test\n",
    "y_pred_NB=nbClassifier.predict(x_test)"
   ]
  },
  {
   "cell_type": "code",
   "execution_count": 187,
   "metadata": {},
   "outputs": [
    {
     "data": {
      "text/plain": [
       "<AxesSubplot:>"
      ]
     },
     "execution_count": 187,
     "metadata": {},
     "output_type": "execute_result"
    },
    {
     "data": {
      "image/png": "[encoded data removed]",
      "text/plain": [
       "<Figure size 1400x1000 with 2 Axes>"
      ]
     },
     "metadata": {},
     "output_type": "display_data"
    }
   ],
   "source": [
    "#Plotting a confusion matrix to see false/positive and false/negatives\n",
    "nbCM=confusion_matrix(y_test, y_pred_NB)\n",
    "#customizing matrix\n",
    "plt.figure(figsize=(14,10))\n",
    "sns.heatmap(nbCM,annot=True,fmt='d',cmap=\"gnuplot\")"
   ]
  },
  {
   "cell_type": "code",
   "execution_count": 188,
   "metadata": {},
   "outputs": [
    {
     "name": "stdout",
     "output_type": "stream",
     "text": [
      "Accuracy:  0.9837209302325581\n"
     ]
    }
   ],
   "source": [
    "#Printing the accuracy of the algorithm\n",
    "accuracy=accuracy_score(y_test,y_pred_NB)\n",
    "print(\"Accuracy: \",accuracy)"
   ]
  },
  {
   "cell_type": "code",
   "execution_count": 189,
   "metadata": {},
   "outputs": [
    {
     "name": "stdout",
     "output_type": "stream",
     "text": [
      "              precision    recall  f1-score   support\n",
      "\n",
      "           0       0.99      1.00      0.99      1139\n",
      "           1       0.97      0.89      0.93       151\n",
      "\n",
      "    accuracy                           0.98      1290\n",
      "   macro avg       0.98      0.94      0.96      1290\n",
      "weighted avg       0.98      0.98      0.98      1290\n",
      "\n",
      "\n",
      "Confusion Matrix: \n",
      " [[1135    4]\n",
      " [  17  134]]\n",
      "Accuracy:  0.9837209302325581\n"
     ]
    }
   ],
   "source": [
    "#Performance measurement\n",
    "#Evaluating the model with the training data set checking precision and recall\n",
    "from sklearn.metrics import classification_report, confusion_matrix, accuracy_score\n",
    "pred = nbClassifier.predict(x_test)\n",
    "print(classification_report(y_test, pred))\n",
    "print()\n",
    "print(\"Confusion Matrix: \\n\", confusion_matrix(y_test, pred))\n",
    "print(\"Accuracy: \", accuracy_score(y_test, pred))"
   ]
  },
  {
   "cell_type": "code",
   "execution_count": 139,
   "metadata": {},
   "outputs": [],
   "source": [
    "#Setting up countvectorizer for manual testing\n",
    "#creating test and training\n",
    "#by default it is split into 75% test and 25% train\n",
    "#or you can set your own parameters\n",
    "x_train, x_test, y_train, y_test = train_test_split(X,Y)"
   ]
  },
  {
   "cell_type": "code",
   "execution_count": 140,
   "metadata": {},
   "outputs": [
    {
     "data": {
      "text/plain": [
       "count    1290.000000\n",
       "mean        0.120155\n",
       "std         0.325269\n",
       "min         0.000000\n",
       "25%         0.000000\n",
       "50%         0.000000\n",
       "75%         0.000000\n",
       "max         1.000000\n",
       "Name: spam, dtype: float64"
      ]
     },
     "execution_count": 140,
     "metadata": {},
     "output_type": "execute_result"
    }
   ],
   "source": [
    "#inspecting each set, it splits the total data items by the 4 test and training variables\n",
    "#(4360+1368)/4 = 1432\n",
    "x_train.describe()\n",
    "x_test.describe()\n",
    "y_train.describe()\n",
    "y_test.describe()"
   ]
  },
  {
   "cell_type": "code",
   "execution_count": 141,
   "metadata": {},
   "outputs": [],
   "source": [
    "#Next step tofind word counts and to store it\n",
    "#Count vectorizer gets the word count and fit_transorm transforms the characters into a matrix\n",
    "cv = CountVectorizer()\n",
    "x_train_count = cv.fit_transform(x_train.values)"
   ]
  },
  {
   "cell_type": "code",
   "execution_count": 142,
   "metadata": {},
   "outputs": [
    {
     "data": {
      "text/plain": [
       "<3868x7406 sparse matrix of type '<class 'numpy.int64'>'\n",
       "\twith 51144 stored elements in Compressed Sparse Row format>"
      ]
     },
     "execution_count": 142,
     "metadata": {},
     "output_type": "execute_result"
    }
   ],
   "source": [
    "#Inspecting the count - there are 4296 columns and 32667 unique words across all the emails\n",
    "x_train_count"
   ]
  },
  {
   "cell_type": "code",
   "execution_count": 143,
   "metadata": {},
   "outputs": [
    {
     "data": {
      "text/plain": [
       "MultinomialNB()"
      ]
     },
     "execution_count": 143,
     "metadata": {},
     "output_type": "execute_result"
    }
   ],
   "source": [
    "#Training dataset\n",
    "dataset = MultinomialNB()\n",
    "dataset.fit(x_train_count, y_train) \n",
    "# Training the x_train_count (word count) features against the y_train data"
   ]
  },
  {
   "cell_type": "code",
   "execution_count": 144,
   "metadata": {},
   "outputs": [
    {
     "name": "stdout",
     "output_type": "stream",
     "text": [
      "Accuracy:  0.9868217054263566\n"
     ]
    }
   ],
   "source": [
    "x_test_count = cv.transform(x_test)\n",
    "print('Accuracy: ', dataset.score(x_test_count, y_test))"
   ]
  },
  {
   "cell_type": "code",
   "execution_count": 120,
   "metadata": {},
   "outputs": [
    {
     "data": {
      "text/plain": [
       "array([0], dtype=int64)"
      ]
     },
     "execution_count": 120,
     "metadata": {},
     "output_type": "execute_result"
    }
   ],
   "source": [
    "#TESTINGTHE ALGO - non-spam\n",
    "e_ham = [\"hey what u up too?\"]\n",
    "e_ham_count = cv.transform(e_ham)\n",
    "dataset.predict(e_ham_count)"
   ]
  },
  {
   "cell_type": "code",
   "execution_count": 56,
   "metadata": {},
   "outputs": [
    {
     "data": {
      "text/plain": [
       "array([1], dtype=int64)"
      ]
     },
     "execution_count": 56,
     "metadata": {},
     "output_type": "execute_result"
    }
   ],
   "source": [
    "#TESTINGTHE ALGO - spam\n",
    "e_ham = [\"send password for free stocks\"]\n",
    "e_ham_count = cv.transform(e_ham)\n",
    "dataset.predict(e_ham_count)"
   ]
  },
  {
   "cell_type": "code",
   "execution_count": 57,
   "metadata": {},
   "outputs": [
    {
     "name": "stdout",
     "output_type": "stream",
     "text": [
      "[0]\n"
     ]
    }
   ],
   "source": [
    "#TESTINGTHE ALGO\n",
    "msg = \"you up for some work over the weekend pal\"\n",
    "data = [msg]\n",
    "vect = cv.transform(data).toarray()\n",
    "result=dataset.predict(vect)\n",
    "print(result)"
   ]
  },
  {
   "cell_type": "code",
   "execution_count": 60,
   "metadata": {},
   "outputs": [
    {
     "name": "stdout",
     "output_type": "stream",
     "text": [
      "[1]\n"
     ]
    }
   ],
   "source": [
    "#TESTINGTHE ALGO\n",
    "msg = \"send bank password for free money\"\n",
    "data = [msg]\n",
    "vect = cv.transform(data).toarray()\n",
    "result=dataset.predict(vect)\n",
    "print(result)"
   ]
  },
  {
   "cell_type": "code",
   "execution_count": 61,
   "metadata": {},
   "outputs": [
    {
     "name": "stdout",
     "output_type": "stream",
     "text": [
      "[1]\n"
     ]
    }
   ],
   "source": [
    "#TESTINGTHE ALGO\n",
    "msg = \"bank password free\"\n",
    "data = [msg]\n",
    "vect = cv.transform(data).toarray()\n",
    "result=dataset.predict(vect)\n",
    "print(result)"
   ]
  },
  {
   "cell_type": "code",
   "execution_count": 64,
   "metadata": {},
   "outputs": [
    {
     "name": "stdout",
     "output_type": "stream",
     "text": [
      "[1]\n"
     ]
    }
   ],
   "source": [
    "#TESTINGTHE ALGO\n",
    "msg = \"please upload latest copy of your bank statement\"\n",
    "data = [msg]\n",
    "vect = cv.transform(data).toarray()\n",
    "result=dataset.predict(vect)\n",
    "print(result)"
   ]
  },
  {
   "cell_type": "code",
   "execution_count": 65,
   "metadata": {},
   "outputs": [
    {
     "name": "stdout",
     "output_type": "stream",
     "text": [
      "[0]\n"
     ]
    }
   ],
   "source": [
    "#TESTINGTHE ALGO\n",
    "msg = \"yo fancy some footie?\"\n",
    "data = [msg]\n",
    "vect = cv.transform(data).toarray()\n",
    "result=dataset.predict(vect)\n",
    "print(result)"
   ]
  }
 ],
 "metadata": {
  "kernelspec": {
   "display_name": "base",
   "language": "python",
   "name": "python3"
  },
  "language_info": {
   "codemirror_mode": {
    "name": "ipython",
    "version": 3
   },
   "file_extension": ".py",
   "mimetype": "text/x-python",
   "name": "python",
   "nbconvert_exporter": "python",
   "pygments_lexer": "ipython3",
   "version": "3.9.13"
  },
  "orig_nbformat": 4,
  "vscode": {
   "interpreter": {
    "hash": "4bd93d3e2369d766c292c7e8ea7d09dce32c9fd58b032bc2b1ce8b9b4c153d23"
   }
  }
 },
 "nbformat": 4,
 "nbformat_minor": 2
}
