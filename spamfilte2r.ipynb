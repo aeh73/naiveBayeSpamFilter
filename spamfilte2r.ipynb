{
 "cells": [
  {
   "cell_type": "code",
   "execution_count": 236,
   "metadata": {},
   "outputs": [],
   "source": [
    "#Naive Bayes Algo Spam Filter -  detects if emails are spam(1) or ham(0)\n",
    "#Importing packages\n",
    "import pandas as pd\n",
    "from sklearn.feature_extraction.text import CountVectorizer\n",
    "from sklearn.model_selection import train_test_split\n",
    "from sklearn.naive_bayes import MultinomialNB\n",
    "\n"
   ]
  },
  {
   "cell_type": "code",
   "execution_count": 237,
   "metadata": {},
   "outputs": [
    {
     "name": "stdout",
     "output_type": "stream",
     "text": [
      "     class                                            message Unnamed: 2  \\\n",
      "0      ham  Go until jurong point, crazy.. Available only ...        NaN   \n",
      "1      ham                      Ok lar... Joking wif u oni...        NaN   \n",
      "2     spam  Free entry in 2 a wkly comp to win FA Cup fina...        NaN   \n",
      "3      ham  U dun say so early hor... U c already then say...        NaN   \n",
      "4      ham  Nah I don't think he goes to usf, he lives aro...        NaN   \n",
      "...    ...                                                ...        ...   \n",
      "5567  spam  This is the 2nd time we have tried 2 contact u...        NaN   \n",
      "5568   ham              Will �_ b going to esplanade fr home?        NaN   \n",
      "5569   ham  Pity, * was in mood for that. So...any other s...        NaN   \n",
      "5570   ham  The guy did some bitching but I acted like i'd...        NaN   \n",
      "5571   ham                         Rofl. Its true to its name        NaN   \n",
      "\n",
      "     Unnamed: 3 Unnamed: 4  \n",
      "0           NaN        NaN  \n",
      "1           NaN        NaN  \n",
      "2           NaN        NaN  \n",
      "3           NaN        NaN  \n",
      "4           NaN        NaN  \n",
      "...         ...        ...  \n",
      "5567        NaN        NaN  \n",
      "5568        NaN        NaN  \n",
      "5569        NaN        NaN  \n",
      "5570        NaN        NaN  \n",
      "5571        NaN        NaN  \n",
      "\n",
      "[5572 rows x 5 columns]\n",
      "Index(['class', 'message', 'Unnamed: 2', 'Unnamed: 3', 'Unnamed: 4'], dtype='object')\n",
      "     class                                            message\n",
      "0      ham  Go until jurong point, crazy.. Available only ...\n",
      "1      ham                      Ok lar... Joking wif u oni...\n",
      "2     spam  Free entry in 2 a wkly comp to win FA Cup fina...\n",
      "3      ham  U dun say so early hor... U c already then say...\n",
      "4      ham  Nah I don't think he goes to usf, he lives aro...\n",
      "...    ...                                                ...\n",
      "5567  spam  This is the 2nd time we have tried 2 contact u...\n",
      "5568   ham              Will �_ b going to esplanade fr home?\n",
      "5569   ham  Pity, * was in mood for that. So...any other s...\n",
      "5570   ham  The guy did some bitching but I acted like i'd...\n",
      "5571   ham                         Rofl. Its true to its name\n",
      "\n",
      "[5572 rows x 2 columns]\n"
     ]
    }
   ],
   "source": [
    "#Importing data, testing and cleaning up columns\n",
    "spam_data = pd.read_csv(r'C:\\Users\\Ahmed\\Desktop\\Intelligent Systems\\PROJECT\\spam.csv')\n",
    "print(spam_data)              #Prints the dataset\n",
    "print(spam_data.columns)      #Prints column titles\n",
    "spam_data.drop(['Unnamed: 2', 'Unnamed: 3', 'Unnamed: 4'],axis=1,inplace=True)  #Removes the unnamed column titles\n",
    "print(spam_data)              #Re-prints the dataset"
   ]
  },
  {
   "cell_type": "code",
   "execution_count": 238,
   "metadata": {},
   "outputs": [
    {
     "name": "stdout",
     "output_type": "stream",
     "text": [
      "      class                                            message\n",
      "0         0  Go until jurong point, crazy.. Available only ...\n",
      "1         0                      Ok lar... Joking wif u oni...\n",
      "2         1  Free entry in 2 a wkly comp to win FA Cup fina...\n",
      "3         0  U dun say so early hor... U c already then say...\n",
      "4         0  Nah I don't think he goes to usf, he lives aro...\n",
      "...     ...                                                ...\n",
      "5567      1  This is the 2nd time we have tried 2 contact u...\n",
      "5568      0              Will �_ b going to esplanade fr home?\n",
      "5569      0  Pity, * was in mood for that. So...any other s...\n",
      "5570      0  The guy did some bitching but I acted like i'd...\n",
      "5571      0                         Rofl. Its true to its name\n",
      "\n",
      "[5572 rows x 2 columns]\n"
     ]
    }
   ],
   "source": [
    "#Re-defines \"ham\" and \"spam\" classes as '0' and '1'\n",
    "spam_data['class'] = spam_data['class'].map({'ham':0,'spam':1})\n",
    "#spam_data['class'] = spam_data['class'].apply(lambda x: 'spam' if x == '1' else 'ham')\n",
    "print(spam_data)"
   ]
  },
  {
   "cell_type": "code",
   "execution_count": 239,
   "metadata": {},
   "outputs": [
    {
     "name": "stdout",
     "output_type": "stream",
     "text": [
      "(5572,)\n",
      "(5572,)\n"
     ]
    }
   ],
   "source": [
    "#Next step to find word counts and to store it\n",
    "#Count vectorizer gets the word count and fit_transorm transforms the characters into a matrix\n",
    "cv = CountVectorizer()\n",
    "\n",
    "x = spam_data['message']#The 2 labels in the csv file\n",
    "y = spam_data['class']\n",
    "\n",
    "print(x.shape)   #shape shows the dimensions of an object -  in this case it gives the length of the amount of spam and non-spam emails\n",
    "print(y.shape)  "
   ]
  },
  {
   "cell_type": "code",
   "execution_count": 240,
   "metadata": {},
   "outputs": [
    {
     "name": "stdout",
     "output_type": "stream",
     "text": [
      "  (0, 3539)\t1\n",
      "  (0, 8006)\t1\n",
      "  (0, 4330)\t1\n",
      "  (0, 5901)\t1\n",
      "  (0, 2321)\t1\n",
      "  (0, 1304)\t1\n",
      "  (0, 5518)\t1\n",
      "  (0, 4074)\t1\n",
      "  (0, 1751)\t1\n",
      "  (0, 3623)\t1\n",
      "  (0, 8463)\t1\n",
      "  (0, 4456)\t1\n",
      "  (0, 1749)\t1\n",
      "  (0, 2044)\t1\n",
      "  (0, 7622)\t1\n",
      "  (0, 3583)\t1\n",
      "  (0, 1070)\t1\n",
      "  (0, 8242)\t1\n",
      "  (1, 5485)\t1\n",
      "  (1, 4492)\t1\n",
      "  (1, 4298)\t1\n",
      "  (1, 8366)\t1\n",
      "  (1, 5514)\t1\n",
      "  (2, 4074)\t1\n",
      "  (2, 3347)\t1\n",
      "  :\t:\n",
      "  (5570, 4204)\t1\n",
      "  (5570, 8288)\t1\n",
      "  (5570, 1085)\t1\n",
      "  (5570, 4596)\t1\n",
      "  (5570, 7018)\t1\n",
      "  (5570, 3298)\t1\n",
      "  (5570, 7604)\t1\n",
      "  (5570, 1438)\t1\n",
      "  (5570, 5316)\t1\n",
      "  (5570, 2586)\t1\n",
      "  (5570, 8041)\t1\n",
      "  (5570, 1778)\t1\n",
      "  (5570, 7028)\t1\n",
      "  (5570, 2883)\t1\n",
      "  (5570, 3459)\t1\n",
      "  (5570, 1786)\t1\n",
      "  (5570, 3676)\t1\n",
      "  (5570, 4148)\t1\n",
      "  (5570, 904)\t1\n",
      "  (5570, 1546)\t1\n",
      "  (5571, 7733)\t1\n",
      "  (5571, 5226)\t1\n",
      "  (5571, 4211)\t2\n",
      "  (5571, 7862)\t1\n",
      "  (5571, 6483)\t1\n"
     ]
    }
   ],
   "source": [
    "x = cv.fit_transform(x)\n",
    "print(x)"
   ]
  },
  {
   "cell_type": "code",
   "execution_count": 241,
   "metadata": {},
   "outputs": [
    {
     "name": "stdout",
     "output_type": "stream",
     "text": [
      "(4457, 8625)\n",
      "  (0, 4074)\t1\n",
      "  (0, 2704)\t1\n",
      "  (0, 7231)\t1\n",
      "  (0, 4920)\t1\n",
      "  (0, 7630)\t1\n",
      "  (0, 8336)\t1\n",
      "  (0, 4427)\t1\n",
      "  (0, 4541)\t1\n",
      "  (0, 5469)\t1\n",
      "  (0, 3190)\t1\n",
      "  (0, 4131)\t1\n",
      "  (0, 3319)\t1\n",
      "  (1, 4074)\t1\n",
      "  (1, 7600)\t1\n",
      "  (1, 2708)\t1\n",
      "  (1, 7538)\t1\n",
      "  (1, 5459)\t2\n",
      "  (1, 5860)\t1\n",
      "  (1, 4840)\t1\n",
      "  (1, 8594)\t1\n",
      "  (1, 7908)\t1\n",
      "  (1, 5023)\t1\n",
      "  (1, 7549)\t1\n",
      "  (1, 5010)\t1\n",
      "  (1, 3241)\t1\n",
      "  :\t:\n",
      "  (4453, 2927)\t1\n",
      "  (4453, 1261)\t1\n",
      "  (4453, 7600)\t2\n",
      "  (4453, 4650)\t1\n",
      "  (4453, 3492)\t1\n",
      "  (4453, 7698)\t1\n",
      "  (4453, 3521)\t1\n",
      "  (4453, 5807)\t1\n",
      "  (4453, 4042)\t1\n",
      "  (4453, 5677)\t1\n",
      "  (4453, 2955)\t1\n",
      "  (4453, 571)\t1\n",
      "  (4454, 6702)\t1\n",
      "  (4454, 4920)\t1\n",
      "  (4454, 8589)\t1\n",
      "  (4454, 5868)\t1\n",
      "  (4454, 923)\t1\n",
      "  (4454, 6893)\t1\n",
      "  (4455, 4204)\t1\n",
      "  (4455, 1831)\t1\n",
      "  (4455, 8539)\t1\n",
      "  (4455, 983)\t1\n",
      "  (4455, 8347)\t1\n",
      "  (4456, 8242)\t1\n",
      "  (4456, 2694)\t1\n"
     ]
    }
   ],
   "source": [
    "#creating and splitting test and training - printing to confirm\n",
    "x_train, x_test, y_train, y_test = train_test_split(x,y,test_size=0.2) # 80% training and 20% test\n",
    "print(x_train.shape)\n",
    "print(x_train)"
   ]
  },
  {
   "cell_type": "code",
   "execution_count": 242,
   "metadata": {},
   "outputs": [
    {
     "data": {
      "text/plain": [
       "MultinomialNB()"
      ]
     },
     "execution_count": 242,
     "metadata": {},
     "output_type": "execute_result"
    }
   ],
   "source": [
    "#Training dataset using NaiveBaye classifier\n",
    "dataset = MultinomialNB()\n",
    "\n",
    "dataset.fit(x_train, y_train)\n",
    "MultinomialNB()"
   ]
  },
  {
   "cell_type": "code",
   "execution_count": 243,
   "metadata": {},
   "outputs": [
    {
     "name": "stdout",
     "output_type": "stream",
     "text": [
      "0.979372197309417\n"
     ]
    }
   ],
   "source": [
    "#Displaying the results or accuracy\n",
    "result = dataset.score(x_test,y_test)\n",
    "\n",
    "print(result)"
   ]
  },
  {
   "cell_type": "code",
   "execution_count": 244,
   "metadata": {},
   "outputs": [
    {
     "name": "stdout",
     "output_type": "stream",
     "text": [
      "[1]\n"
     ]
    }
   ],
   "source": [
    "#MANUALLY TESTINGTHE ALGO\n",
    "msg = \"free entry bank account\"\n",
    "data = [msg]\n",
    "vect = cv.transform(data).toarray()\n",
    "result=dataset.predict(vect)\n",
    "print(result)"
   ]
  },
  {
   "cell_type": "code",
   "execution_count": 245,
   "metadata": {},
   "outputs": [
    {
     "name": "stdout",
     "output_type": "stream",
     "text": [
      "[0]\n"
     ]
    }
   ],
   "source": [
    "#TESTINGTHE ALGO\n",
    "msg = \"hey want to watch the football\"\n",
    "data = [msg]\n",
    "vect = cv.transform(data).toarray()\n",
    "result=dataset.predict(vect)\n",
    "print(result)"
   ]
  },
  {
   "cell_type": "code",
   "execution_count": 246,
   "metadata": {},
   "outputs": [
    {
     "name": "stdout",
     "output_type": "stream",
     "text": [
      "[1]\n"
     ]
    }
   ],
   "source": [
    "#TESTINGTHE ALGO\n",
    "msg = \"bank password free\"\n",
    "data = [msg]\n",
    "vect = cv.transform(data).toarray()\n",
    "result=dataset.predict(vect)\n",
    "print(result)"
   ]
  },
  {
   "cell_type": "code",
   "execution_count": 247,
   "metadata": {},
   "outputs": [
    {
     "name": "stdout",
     "output_type": "stream",
     "text": [
      "[0]\n"
     ]
    }
   ],
   "source": [
    "#TESTINGTHE ALGO\n",
    "msg = \"hey man are you free tonight\"\n",
    "data = [msg]\n",
    "vect = cv.transform(data).toarray()\n",
    "result=dataset.predict(vect)\n",
    "print(result)"
   ]
  },
  {
   "cell_type": "code",
   "execution_count": 253,
   "metadata": {},
   "outputs": [
    {
     "name": "stdout",
     "output_type": "stream",
     "text": [
      "[0]\n"
     ]
    }
   ],
   "source": [
    "#TESTINGTHE ALGO\n",
    "msg = \"txt us for free money at 0884500349\"\n",
    "data = [msg]\n",
    "vect = cv.transform(data).toarray()\n",
    "result=dataset.predict(vect)\n",
    "print(result)"
   ]
  },
  {
   "cell_type": "code",
   "execution_count": 249,
   "metadata": {},
   "outputs": [
    {
     "name": "stdout",
     "output_type": "stream",
     "text": [
      "[0]\n"
     ]
    }
   ],
   "source": [
    "#TESTINGTHE ALGO\n",
    "msg = \"you up for some work over the weekend pal\"\n",
    "data = [msg]\n",
    "vect = cv.transform(data).toarray()\n",
    "result=dataset.predict(vect)\n",
    "print(result)"
   ]
  },
  {
   "cell_type": "code",
   "execution_count": 258,
   "metadata": {},
   "outputs": [
    {
     "data": {
      "text/plain": [
       "array([0], dtype=int64)"
      ]
     },
     "execution_count": 258,
     "metadata": {},
     "output_type": "execute_result"
    }
   ],
   "source": [
    "#Simple testing - spam\n",
    "e_spam = [\"free bank password money at 0884500349\"]\n",
    "e_spam_count = cv.transform(e_spam)\n",
    "dataset.predict(e_spam_count)"
   ]
  },
  {
   "cell_type": "code",
   "execution_count": 251,
   "metadata": {},
   "outputs": [
    {
     "data": {
      "text/plain": [
       "array([0], dtype=int64)"
      ]
     },
     "execution_count": 251,
     "metadata": {},
     "output_type": "execute_result"
    }
   ],
   "source": [
    "#Simple testing - spam\n",
    "e_spam = [\"you up for some work over the weekend pal\"]\n",
    "e_spam_count = cv.transform(e_spam)\n",
    "dataset.predict(e_spam_count)"
   ]
  }
 ],
 "metadata": {
  "kernelspec": {
   "display_name": "base",
   "language": "python",
   "name": "python3"
  },
  "language_info": {
   "codemirror_mode": {
    "name": "ipython",
    "version": 3
   },
   "file_extension": ".py",
   "mimetype": "text/x-python",
   "name": "python",
   "nbconvert_exporter": "python",
   "pygments_lexer": "ipython3",
   "version": "3.9.13"
  },
  "orig_nbformat": 4,
  "vscode": {
   "interpreter": {
    "hash": "4bd93d3e2369d766c292c7e8ea7d09dce32c9fd58b032bc2b1ce8b9b4c153d23"
   }
  }
 },
 "nbformat": 4,
 "nbformat_minor": 2
}
